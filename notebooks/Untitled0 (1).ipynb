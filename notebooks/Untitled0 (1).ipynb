{
  "nbformat": 4,
  "nbformat_minor": 0,
  "metadata": {
    "colab": {
      "provenance": []
    },
    "kernelspec": {
      "name": "python3",
      "display_name": "Python 3"
    },
    "language_info": {
      "name": "python"
    }
  },
  "cells": [
    {
      "cell_type": "code",
      "execution_count": 1,
      "metadata": {
        "colab": {
          "base_uri": "https://localhost:8080/"
        },
        "id": "eklSX3z1NgyB",
        "outputId": "408e1c6e-a433-4d0b-f8ed-b9103f255bc2"
      },
      "outputs": [
        {
          "output_type": "stream",
          "name": "stdout",
          "text": [
            "Requirement already satisfied: seaborn in /usr/local/lib/python3.12/dist-packages (0.13.2)\n",
            "Requirement already satisfied: numpy!=1.24.0,>=1.20 in /usr/local/lib/python3.12/dist-packages (from seaborn) (2.0.2)\n",
            "Requirement already satisfied: pandas>=1.2 in /usr/local/lib/python3.12/dist-packages (from seaborn) (2.2.2)\n",
            "Requirement already satisfied: matplotlib!=3.6.1,>=3.4 in /usr/local/lib/python3.12/dist-packages (from seaborn) (3.10.0)\n",
            "Requirement already satisfied: contourpy>=1.0.1 in /usr/local/lib/python3.12/dist-packages (from matplotlib!=3.6.1,>=3.4->seaborn) (1.3.3)\n",
            "Requirement already satisfied: cycler>=0.10 in /usr/local/lib/python3.12/dist-packages (from matplotlib!=3.6.1,>=3.4->seaborn) (0.12.1)\n",
            "Requirement already satisfied: fonttools>=4.22.0 in /usr/local/lib/python3.12/dist-packages (from matplotlib!=3.6.1,>=3.4->seaborn) (4.59.2)\n",
            "Requirement already satisfied: kiwisolver>=1.3.1 in /usr/local/lib/python3.12/dist-packages (from matplotlib!=3.6.1,>=3.4->seaborn) (1.4.9)\n",
            "Requirement already satisfied: packaging>=20.0 in /usr/local/lib/python3.12/dist-packages (from matplotlib!=3.6.1,>=3.4->seaborn) (25.0)\n",
            "Requirement already satisfied: pillow>=8 in /usr/local/lib/python3.12/dist-packages (from matplotlib!=3.6.1,>=3.4->seaborn) (11.3.0)\n",
            "Requirement already satisfied: pyparsing>=2.3.1 in /usr/local/lib/python3.12/dist-packages (from matplotlib!=3.6.1,>=3.4->seaborn) (3.2.3)\n",
            "Requirement already satisfied: python-dateutil>=2.7 in /usr/local/lib/python3.12/dist-packages (from matplotlib!=3.6.1,>=3.4->seaborn) (2.9.0.post0)\n",
            "Requirement already satisfied: pytz>=2020.1 in /usr/local/lib/python3.12/dist-packages (from pandas>=1.2->seaborn) (2025.2)\n",
            "Requirement already satisfied: tzdata>=2022.7 in /usr/local/lib/python3.12/dist-packages (from pandas>=1.2->seaborn) (2025.2)\n",
            "Requirement already satisfied: six>=1.5 in /usr/local/lib/python3.12/dist-packages (from python-dateutil>=2.7->matplotlib!=3.6.1,>=3.4->seaborn) (1.17.0)\n",
            "Requirement already satisfied: folium in /usr/local/lib/python3.12/dist-packages (0.20.0)\n",
            "Requirement already satisfied: branca>=0.6.0 in /usr/local/lib/python3.12/dist-packages (from folium) (0.8.1)\n",
            "Requirement already satisfied: jinja2>=2.9 in /usr/local/lib/python3.12/dist-packages (from folium) (3.1.6)\n",
            "Requirement already satisfied: numpy in /usr/local/lib/python3.12/dist-packages (from folium) (2.0.2)\n",
            "Requirement already satisfied: requests in /usr/local/lib/python3.12/dist-packages (from folium) (2.32.4)\n",
            "Requirement already satisfied: xyzservices in /usr/local/lib/python3.12/dist-packages (from folium) (2025.4.0)\n",
            "Requirement already satisfied: MarkupSafe>=2.0 in /usr/local/lib/python3.12/dist-packages (from jinja2>=2.9->folium) (3.0.2)\n",
            "Requirement already satisfied: charset_normalizer<4,>=2 in /usr/local/lib/python3.12/dist-packages (from requests->folium) (3.4.3)\n",
            "Requirement already satisfied: idna<4,>=2.5 in /usr/local/lib/python3.12/dist-packages (from requests->folium) (3.10)\n",
            "Requirement already satisfied: urllib3<3,>=1.21.1 in /usr/local/lib/python3.12/dist-packages (from requests->folium) (2.5.0)\n",
            "Requirement already satisfied: certifi>=2017.4.17 in /usr/local/lib/python3.12/dist-packages (from requests->folium) (2025.8.3)\n"
          ]
        }
      ],
      "source": [
        "%pip install seaborn\n",
        "%pip install folium\n",
        "import pandas as pd # data wrangler library, dataframes are used to display and manipulate data\n",
        "import seaborn as sns # data graphing library, built on top of matplotlib\n",
        "import matplotlib.pyplot as plt # graphing library, used for titles and customization\n",
        "import urllib.parse # library to parse URLs for querying\n",
        "import seaborn as sns # data graphing library, built on top of matplotlib\n",
        "import folium # library to create interactive maps\n",
        "import folium.plugins as plugins # plugins for folium, used for clustering map points\n",
        "import geopandas as gpd # library to handle geospatial data"
      ]
    },
    {
      "cell_type": "code",
      "source": [
        "def encode_soql_query(query:str) -> str:\n",
        "    # just in case there are any new lines in the query, replaces them with spaces\n",
        "    while '\\n' in query:\n",
        "        query = query.replace('\\n', ' ')\n",
        "\n",
        "    # encodes the query to be URL friendly\n",
        "    parsed_query = urllib.parse.quote(query)\n",
        "\n",
        "    # return query with prefix needed for soql queries\n",
        "    return '?$query=' + parsed_query"
      ],
      "metadata": {
        "id": "D0lXsodyNqHm"
      },
      "execution_count": 4,
      "outputs": []
    },
    {
      "cell_type": "code",
      "source": [
        "ace_violations_api = \"https://data.ny.gov/resource/kh8p-hcbm.csv\""
      ],
      "metadata": {
        "id": "QXnfcm8nNq6B"
      },
      "execution_count": 2,
      "outputs": []
    },
    {
      "cell_type": "code",
      "source": [
        "violations_exempt_bus_query =  \"\"\"\n",
        "SELECT  *\n",
        "WHERE violation_status = 'EXEMPT - BUS/PARATRANSIT'\n",
        "LIMIT 250\n",
        "\"\"\"\n",
        "encoded_query = encode_soql_query(violations_exempt_bus_query)\n",
        "api_query = ace_violations_api + encoded_query"
      ],
      "metadata": {
        "id": "BoYWA3DXNu-5"
      },
      "execution_count": 11,
      "outputs": []
    },
    {
      "cell_type": "code",
      "source": [
        "bus_exemept_violations_df = pd.read_csv(api_query)\n"
      ],
      "metadata": {
        "id": "vtShbf8TNzLv"
      },
      "execution_count": 12,
      "outputs": []
    },
    {
      "cell_type": "code",
      "source": [
        "geometry = gpd.points_from_xy(bus_exemept_violations_df.bus_stop_longitude, bus_exemept_violations_df.bus_stop_latitude)\n",
        "geo_df = gpd.GeoDataFrame(\n",
        "    bus_exemept_violations_df, geometry=geometry\n",
        "    )"
      ],
      "metadata": {
        "id": "CAZboCArOZaa"
      },
      "execution_count": 15,
      "outputs": []
    },
    {
      "cell_type": "code",
      "source": [
        "map = folium.Map(location=[40.730610, -73.935242], tiles=\"CartoDB Positron\", zoom_start=11)"
      ],
      "metadata": {
        "id": "SmiyCVZCOpIH"
      },
      "execution_count": null,
      "outputs": []
    },
    {
      "cell_type": "code",
      "source": [
        "map"
      ],
      "metadata": {
        "id": "G3GfsHVROpjG"
      },
      "execution_count": null,
      "outputs": []
    },
    {
      "cell_type": "code",
      "source": [
        "unique_stops = geo_df.bus_route_id.nunique()\n",
        "color_palette = sns.color_palette(\"hls\", unique_stops).as_hex()\n",
        "unique_values = geo_df.bus_route_id.unique()\n",
        "color_map = dict(zip(unique_values, color_palette))"
      ],
      "metadata": {
        "id": "HU1g0u9-Oqle"
      },
      "execution_count": null,
      "outputs": []
    },
    {
      "cell_type": "code",
      "source": [
        "geo_df_list = [[point.xy[1][0], point.xy[0][0]] for point in geo_df.geometry]\n",
        "\n",
        "# Iterate through list and add a marker for each violation\n",
        "i = 0\n",
        "for coordinates in geo_df_list:\n",
        "    # Place the markers with the popup labels and data\n",
        "    map.add_child(\n",
        "        folium.Marker(\n",
        "            location=coordinates,\n",
        "            popup=f\"\"\"\n",
        "            Route: {geo_df.bus_route_id[i]} <br>\n",
        "            Stop Name: {geo_df.stop_name[i]} <br>\n",
        "            Violation Type: {geo_df.violation_type[i]} <br>\n",
        "            \"\"\",\n",
        "            icon=folium.Icon(color='white', icon_color = color_map[geo_df.bus_route_id[i]], icon=\"info-sign\"),\n",
        "        )\n",
        "    )\n",
        "    i = i + 1"
      ],
      "metadata": {
        "id": "0y7cAnjQOvK6"
      },
      "execution_count": null,
      "outputs": []
    },
    {
      "cell_type": "code",
      "source": [
        "map"
      ],
      "metadata": {
        "colab": {
          "base_uri": "https://localhost:8080/"
        },
        "id": "9aofMBmYOzkU",
        "outputId": "e48e7404-03dd-4e87-c9df-2cf5f27dd0aa"
      },
      "execution_count": 17,
      "outputs": [
        {
          "output_type": "execute_result",
          "data": {
            "text/plain": [
              "map"
            ]
          },
          "metadata": {},
          "execution_count": 17
        }
      ]
    },
    {
      "cell_type": "code",
      "source": [
        "from shapely.geometry import LineString\n",
        "from pathlib import Path"
      ],
      "metadata": {
        "id": "6geaOaeqO1V2"
      },
      "execution_count": 16,
      "outputs": []
    },
    {
      "cell_type": "code",
      "source": [
        "FOLDER = Path(\"../data/gtfs_subway\")\n",
        "print(f\"Loading GTFS data from: {FOLDER.resolve()}\")\n",
        "\n",
        "shapes_path = FOLDER / \"shapes.txt\"\n",
        "stops_path = FOLDER / \"stops.txt\"\n",
        "routes_path = FOLDER / \"routes.txt\"\n",
        "trips_path = FOLDER / \"trips.txt\"\n",
        "\n",
        "shapes = pd.read_csv(shapes_path, dtype=str, low_memory=False)\n",
        "stops = pd.read_csv(stops_path, dtype=str, low_memory=False)\n",
        "routes = pd.read_csv(routes_path, dtype=str, low_memory=False)\n",
        "trips = pd.read_csv(trips_path, dtype=str, low_memory=False)\n",
        "print(\"Successfully loaded GTFS text files.\")\n",
        "\n",
        "feed_name = \"subway\"\n",
        "for df in [shapes, stops, routes, trips]:\n",
        "    df[\"feed_name\"] = feed_name\n",
        "\n",
        "for col in [\"shape_pt_lat\", \"shape_pt_lon\"]:\n",
        "    shapes[col] = shapes[col].astype(float)\n",
        "shapes[\"shape_pt_sequence\"] = shapes[\"shape_pt_sequence\"].astype(int)\n",
        "stops[\"stop_lat\"] = stops[\"stop_lat\"].astype(float)\n",
        "stops[\"stop_lon\"] = stops[\"stop_lon\"].astype(float)\n",
        "\n",
        "shapes[\"shape_uid\"] = shapes[\"feed_name\"] + \"_\" + shapes[\"shape_id\"]\n",
        "trips[\"shape_uid\"] = trips[\"feed_name\"] + \"_\" + trips[\"shape_id\"]\n",
        "\n",
        "shape_to_route = trips.merge(\n",
        "    routes, on=[\"route_id\", \"feed_name\"]\n",
        ").drop_duplicates(\"shape_uid\")\n",
        "\n",
        "lines = (\n",
        "    shapes.sort_values([\"shape_uid\", \"shape_pt_sequence\"])\n",
        "    .groupby(\"shape_uid\")[[\"shape_pt_lon\", \"shape_pt_lat\"]]\n",
        "    .apply(lambda df: LineString(df.to_numpy()))\n",
        "    .to_frame(\"geometry\")\n",
        "    .reset_index()\n",
        ")\n",
        "\n",
        "routes_gdf = gpd.GeoDataFrame(lines, geometry=\"geometry\", crs=\"EPSG:4326\").merge(\n",
        "    shape_to_route, on=\"shape_uid\", how=\"left\"\n",
        ")\n",
        "\n",
        "stops_gdf = gpd.GeoDataFrame(\n",
        "    stops,\n",
        "    geometry=gpd.points_from_xy(stops[\"stop_lon\"], stops[\"stop_lat\"]),\n",
        "    crs=\"EPSG:4326\"\n",
        ")\n",
        "\n",
        "folium.map.CustomPane(\"routes\", z_index=400).add_to(map)\n",
        "folium.map.CustomPane(\"stops\", z_index=650).add_to(map)\n",
        "\n",
        "folium.GeoJson(\n",
        "    routes_gdf,\n",
        "    name=\"Subway Routes\",\n",
        "    style_function=lambda feature: {\n",
        "        'color': f\"#{feature['properties'].get('route_color', '000000')}\",\n",
        "        'weight': 3,\n",
        "        'opacity': 0.7,\n",
        "    },\n",
        "    tooltip=folium.GeoJsonTooltip(fields=[\"route_short_name\", \"route_long_name\"]),\n",
        "    pane=\"routes\"\n",
        ").add_to(map)\n",
        "\n",
        "folium.LayerControl(collapsed=False).add_to(map)"
      ],
      "metadata": {
        "id": "91ztNYsbO4pG"
      },
      "execution_count": null,
      "outputs": []
    },
    {
      "cell_type": "code",
      "source": [
        "map"
      ],
      "metadata": {
        "id": "B4JZ5pOnPBaL"
      },
      "execution_count": null,
      "outputs": []
    },
    {
      "cell_type": "code",
      "source": [
        "map.save('../data/cleaned/bus_exempt_map.html')"
      ],
      "metadata": {
        "id": "lVzLClEEPEs6"
      },
      "execution_count": null,
      "outputs": []
    }
  ]
}