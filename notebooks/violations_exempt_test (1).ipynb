{
  "metadata": {
    "kernelspec": {
      "name": "python",
      "display_name": "Python (Pyodide)",
      "language": "python"
    },
    "language_info": {
      "codemirror_mode": {
        "name": "python",
        "version": 3
      },
      "file_extension": ".py",
      "mimetype": "text/x-python",
      "name": "python",
      "nbconvert_exporter": "python",
      "pygments_lexer": "ipython3",
      "version": "3.8"
    }
  },
  "nbformat_minor": 5,
  "nbformat": 4,
  "cells": [
    {
      "id": "84dd0fd6-336e-4cda-9f7c-b267d105a9d9",
      "cell_type": "code",
      "source": "import pandas as pd # data wrangler library, dataframes are used to display and manipulate data\nimport matplotlib.pyplot as plt # graphing library, used for titles and customization\nimport urllib.parse # library to parse URLs for querying\nimport seaborn as sns # data graphing library, built on top of matplotlib\nimport folium # library to create interactive maps\nimport folium.plugins as plugins # plugins for folium, used for clustering map points\nimport geopandas as gpd # library to handle geospatial data",
      "metadata": {
        "trusted": true,
        "scrolled": true
      },
      "outputs": [
        {
          "ename": "<class 'ModuleNotFoundError'>",
          "evalue": "No module named 'folium'",
          "traceback": [
            "\u001b[0;31m---------------------------------------------------------------------------\u001b[0m",
            "\u001b[0;31mModuleNotFoundError\u001b[0m                       Traceback (most recent call last)",
            "Cell \u001b[0;32mIn[7], line 4\u001b[0m\n\u001b[1;32m      2\u001b[0m \u001b[38;5;28;01mimport\u001b[39;00m \u001b[38;5;21;01mmatplotlib\u001b[39;00m\u001b[38;5;21;01m.\u001b[39;00m\u001b[38;5;21;01mpyplot\u001b[39;00m \u001b[38;5;28;01mas\u001b[39;00m \u001b[38;5;21;01mplt\u001b[39;00m \u001b[38;5;66;03m# graphing library, used for titles and customization\u001b[39;00m\n\u001b[1;32m      3\u001b[0m \u001b[38;5;28;01mimport\u001b[39;00m \u001b[38;5;21;01murllib\u001b[39;00m\u001b[38;5;21;01m.\u001b[39;00m\u001b[38;5;21;01mparse\u001b[39;00m \u001b[38;5;66;03m# library to parse URLs for querying\u001b[39;00m\n\u001b[0;32m----> 4\u001b[0m \u001b[38;5;28;01mimport\u001b[39;00m \u001b[38;5;21;01mfolium\u001b[39;00m \u001b[38;5;66;03m# library to create interactive maps\u001b[39;00m\n\u001b[1;32m      5\u001b[0m \u001b[38;5;28;01mimport\u001b[39;00m \u001b[38;5;21;01mfolium\u001b[39;00m\u001b[38;5;21;01m.\u001b[39;00m\u001b[38;5;21;01mplugins\u001b[39;00m \u001b[38;5;28;01mas\u001b[39;00m \u001b[38;5;21;01mplugins\u001b[39;00m \u001b[38;5;66;03m# plugins for folium, used for clustering map points\u001b[39;00m\n\u001b[1;32m      6\u001b[0m \u001b[38;5;28;01mimport\u001b[39;00m \u001b[38;5;21;01mgeopandas\u001b[39;00m \u001b[38;5;28;01mas\u001b[39;00m \u001b[38;5;21;01mgpd\u001b[39;00m \u001b[38;5;66;03m# library to handle geospatial data\u001b[39;00m\n",
            "\u001b[0;31mModuleNotFoundError\u001b[0m: No module named 'folium'"
          ],
          "output_type": "error"
        }
      ],
      "execution_count": 7
    },
    {
      "id": "215d72e6-4125-400f-bfc0-b4eb99880d93",
      "cell_type": "code",
      "source": "def encode_soql_query(query:str) -> str:\n    # just in case there are any new lines in the query, replaces them with spaces\n    while '\\n' in query:\n        query = query.replace('\\n', ' ')\n    \n    # encodes the query to be URL friendly\n    parsed_query = urllib.parse.quote(query)\n    \n    # return query with prefix needed for soql queries\n    return '?$query=' + parsed_query\n",
      "metadata": {
        "trusted": true
      },
      "outputs": [],
      "execution_count": 4
    },
    {
      "id": "ed67bdab-6ccf-47c4-b4d3-207454bf61ed",
      "cell_type": "code",
      "source": "ace_violations_api = \"https://data.ny.gov/resource/kh8p-hcbm.csv\"",
      "metadata": {
        "trusted": true
      },
      "outputs": [],
      "execution_count": null
    },
    {
      "id": "deec40df-8769-493a-8f8e-d53255b42279",
      "cell_type": "code",
      "source": "violations_exempt_bus_query = \"\"\"\nSELECT  * \nWHERE violation_status = 'EXEMPT - BUS/PARATRANSIT'\n\"\"\"\n\nencoded_query = encode_soql_query(violations_exempt_bus_query)\napi_query = ace_violations_api + encoded_query",
      "metadata": {
        "trusted": true
      },
      "outputs": [],
      "execution_count": null
    },
    {
      "id": "a6ab1e4d-fb8f-4595-b797-e62b18dc8a88",
      "cell_type": "code",
      "source": "exempt_Bus_violations_df = pd.read_csv(api_query)\n",
      "metadata": {
        "trusted": true
      },
      "outputs": [],
      "execution_count": null
    },
    {
      "id": "79fe1295-2ab0-40c0-8b8d-a6b9a788de09",
      "cell_type": "code",
      "source": "",
      "metadata": {
        "trusted": true
      },
      "outputs": [],
      "execution_count": null
    }
  ]
}