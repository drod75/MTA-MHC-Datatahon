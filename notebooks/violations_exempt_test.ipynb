{
  "metadata": {
    "kernelspec": {
      "name": "python",
      "display_name": "Python (Pyodide)",
      "language": "python"
    },
    "language_info": {
      "codemirror_mode": {
        "name": "python",
        "version": 3
      },
      "file_extension": ".py",
      "mimetype": "text/x-python",
      "name": "python",
      "nbconvert_exporter": "python",
      "pygments_lexer": "ipython3",
      "version": "3.8"
    }
  },
  "nbformat_minor": 5,
  "nbformat": 4,
  "cells": [
    {
      "id": "84dd0fd6-336e-4cda-9f7c-b267d105a9d9",
      "cell_type": "code",
      "source": "import pandas as pd # data wrangler library, dataframes are used to display and manipulate data\nimport seaborn as sns # data graphing library, built on top of matplotlib\nimport matplotlib.pyplot as plt # graphing library, used for titles and customization\nimport urllib.parse # library to parse URLs for querying\nimport folium # library to create interactive maps\nimport folium.plugins as plugins # plugins for folium, used for clustering map points\nimport geopandas as gpd # library to handle geospatial data\ndef encode_soql_query(query:str) -> str:\n    # just in case there are any new lines in the query, replaces them with spaces\n    while '\\n' in query:\n        query = query.replace('\\n', ' ')\n    \n    # encodes the query to be URL friendly\n    parsed_query = urllib.parse.quote(query)\n    \n    # return query with prefix needed for soql queries\n    return '?$query=' + parsed_query\nace_violations_api = \"https://data.ny.gov/resource/kh8p-hcbm.csv\"\nviolations_exempt_query = \"\"\"\nSELECT  * \nWHERE violation_status = 'EXEMPT - BUS/PARATRANSIT' or 'EXEMPT - COMMERCIAL UNDER 20' OR 'EXEMPT - OTHER' or 'EXEMPT - EMERGENCY VEHICLE'\nLIMIT 250\n\"\"\"\n\nencoded_query = encode_soql_query(violations_exempt_query)\napi_query = ace_violations_api + encoded_query\nviolations_df = pd.read_csv(api_query)",
      "metadata": {
        "trusted": true
      },
      "outputs": [
        {
          "ename": "<class 'ModuleNotFoundError'>",
          "evalue": "No module named 'seaborn'",
          "traceback": [
            "\u001b[0;31m---------------------------------------------------------------------------\u001b[0m",
            "\u001b[0;31mModuleNotFoundError\u001b[0m                       Traceback (most recent call last)",
            "Cell \u001b[0;32mIn[2], line 2\u001b[0m\n\u001b[1;32m      1\u001b[0m \u001b[38;5;28;01mimport\u001b[39;00m \u001b[38;5;21;01mpandas\u001b[39;00m \u001b[38;5;28;01mas\u001b[39;00m \u001b[38;5;21;01mpd\u001b[39;00m \u001b[38;5;66;03m# data wrangler library, dataframes are used to display and manipulate data\u001b[39;00m\n\u001b[0;32m----> 2\u001b[0m \u001b[38;5;28;01mimport\u001b[39;00m \u001b[38;5;21;01mseaborn\u001b[39;00m \u001b[38;5;28;01mas\u001b[39;00m \u001b[38;5;21;01msns\u001b[39;00m \u001b[38;5;66;03m# data graphing library, built on top of matplotlib\u001b[39;00m\n\u001b[1;32m      3\u001b[0m \u001b[38;5;28;01mimport\u001b[39;00m \u001b[38;5;21;01mmatplotlib\u001b[39;00m\u001b[38;5;21;01m.\u001b[39;00m\u001b[38;5;21;01mpyplot\u001b[39;00m \u001b[38;5;28;01mas\u001b[39;00m \u001b[38;5;21;01mplt\u001b[39;00m \u001b[38;5;66;03m# graphing library, used for titles and customization\u001b[39;00m\n\u001b[1;32m      4\u001b[0m \u001b[38;5;28;01mimport\u001b[39;00m \u001b[38;5;21;01murllib\u001b[39;00m\u001b[38;5;21;01m.\u001b[39;00m\u001b[38;5;21;01mparse\u001b[39;00m \u001b[38;5;66;03m# library to parse URLs for querying\u001b[39;00m\n",
            "\u001b[0;31mModuleNotFoundError\u001b[0m: No module named 'seaborn'"
          ],
          "output_type": "error"
        }
      ],
      "execution_count": 2
    },
    {
      "id": "215d72e6-4125-400f-bfc0-b4eb99880d93",
      "cell_type": "code",
      "source": "",
      "metadata": {
        "trusted": true
      },
      "outputs": [],
      "execution_count": null
    }
  ]
}